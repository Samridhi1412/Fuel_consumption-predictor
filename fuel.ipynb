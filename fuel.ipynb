{
 "cells": [
  {
   "cell_type": "code",
   "execution_count": null,
   "metadata": {},
   "outputs": [],
   "source": [
    "import pandas as pd\n",
    "import numpy as np\n",
    "from sklearn.model_selection import train_test_split\n",
    "from sklearn.preprocessing import MinMaxScaler"
   ]
  },
  {
   "cell_type": "code",
   "execution_count": null,
   "metadata": {},
   "outputs": [],
   "source": [
    "data=pd.read_excel('measurements2.xlsx')\n",
    "print(data.head())"
   ]
  },
  {
   "cell_type": "code",
   "execution_count": 32,
   "metadata": {},
   "outputs": [
    {
     "name": "stdout",
     "output_type": "stream",
     "text": [
      "no of rows are  388\n",
      "no of columns are 12\n"
     ]
    }
   ],
   "source": [
    "num_rows,num_col=data.shape\n",
    "print(\"no of rows are \", num_rows)\n",
    "print(\"no of columns are\",num_col)"
   ]
  },
  {
   "cell_type": "code",
   "execution_count": 33,
   "metadata": {},
   "outputs": [
    {
     "data": {
      "text/plain": [
       "distance           0\n",
       "consume            0\n",
       "speed              0\n",
       "temp_inside        0\n",
       "temp_outside       0\n",
       "specials         295\n",
       "gas_type           0\n",
       "AC                 0\n",
       "rain               0\n",
       "sun                0\n",
       "refill liters    375\n",
       "refill gas       375\n",
       "dtype: int64"
      ]
     },
     "execution_count": 33,
     "metadata": {},
     "output_type": "execute_result"
    }
   ],
   "source": [
    "data.isnull().sum()"
   ]
  },
  {
   "cell_type": "code",
   "execution_count": null,
   "metadata": {},
   "outputs": [],
   "source": [
    "data['temp_inside'].value_counts()"
   ]
  },
  {
   "cell_type": "code",
   "execution_count": null,
   "metadata": {},
   "outputs": [],
   "source": [
    "data['temp_inside']=data['temp_inside'].fillna('21.5')"
   ]
  },
  {
   "cell_type": "code",
   "execution_count": null,
   "metadata": {},
   "outputs": [],
   "source": [
    "y=data['consume']\n",
    "print(y)"
   ]
  },
  {
   "cell_type": "code",
   "execution_count": null,
   "metadata": {},
   "outputs": [],
   "source": [
    "selected_columns = ['distance', 'speed', 'temp_inside', 'temp_outside']\n",
    "x = data[selected_columns]\n",
    "print(x)"
   ]
  },
  {
   "cell_type": "code",
   "execution_count": null,
   "metadata": {},
   "outputs": [],
   "source": [
    "x_train, x_test, y_train, y_test = train_test_split(x, y, test_size=0.2, random_state=42)"
   ]
  },
  {
   "cell_type": "code",
   "execution_count": null,
   "metadata": {},
   "outputs": [],
   "source": [
    "scaler = MinMaxScaler()\n",
    "x_train_scaled = scaler.fit_transform(x_train)\n",
    "x_test_scaled = scaler.transform(x_test)"
   ]
  },
  {
   "cell_type": "code",
   "execution_count": null,
   "metadata": {},
   "outputs": [],
   "source": [
    "y_train_numpy = y_train.values\n",
    "y_test_numpy = y_test.values\n",
    "num_rows,num_cols = x.shape\n",
    "print(num_rows)\n",
    "print(num_cols)"
   ]
  },
  {
   "cell_type": "code",
   "execution_count": 34,
   "metadata": {},
   "outputs": [
    {
     "name": "stdout",
     "output_type": "stream",
     "text": [
      "Epoch 0, Loss 12.593467741935486\n",
      "Epoch 100, Loss 1.3312684431576591\n",
      "Epoch 200, Loss 0.8384724316422874\n",
      "Epoch 300, Loss 0.7994760329238654\n",
      "Epoch 400, Loss 0.7805795449244252\n",
      "Epoch 500, Loss 0.7634933022784515\n",
      "Epoch 600, Loss 0.7473936138473504\n",
      "Epoch 700, Loss 0.7321941581845948\n",
      "Epoch 800, Loss 0.7178425788502779\n",
      "Epoch 900, Loss 0.7042907432072278\n"
     ]
    }
   ],
   "source": [
    "def predict(x):\n",
    "    global w,b\n",
    "    return np.dot(x,w)+b\n",
    "def cost_function(y_target, y_pred):\n",
    "    global w, b\n",
    "    m = y_target.shape[0]\n",
    "    diff = (y_pred - y_target) ** 2\n",
    "    cost = np.sum(diff)\n",
    "    total_cost = (1 / (2 * m)) * cost\n",
    "    return total_cost\n",
    "\n",
    "def grad_decsend(x, y_target, y_pred, learn_rate):\n",
    "    global w, b\n",
    "    error = y_pred - y_target\n",
    "    m = y_pred.shape[0]\n",
    "    grad_w = (1 / m) * (np.dot(x.T, error))\n",
    "    grad_b = (1 / m) * np.sum(error)\n",
    "    w -= learn_rate * grad_w\n",
    "    b -= learn_rate * grad_b\n",
    "learn_rate=0.01\n",
    "epochs=1000\n",
    "w = np.zeros(num_cols)\n",
    "b = 0\n",
    "for epoch in range(epochs):\n",
    "    y_pred=predict(x_train_scaled)\n",
    "    loss=cost_function(y_train,y_pred)\n",
    "    grad_decsend(x_train_scaled,y_train,y_pred,learn_rate)\n",
    "    if epoch%100==0:\n",
    "        print(f'Epoch {epoch}, Loss {loss}')"
   ]
  },
  {
   "cell_type": "code",
   "execution_count": 35,
   "metadata": {},
   "outputs": [
    {
     "name": "stdout",
     "output_type": "stream",
     "text": [
      "[0.05410453 0.64959859 1.07859328 0.62737808]\n",
      "3.822853876630596\n"
     ]
    }
   ],
   "source": [
    "print(w)\n",
    "print(b)"
   ]
  },
  {
   "cell_type": "code",
   "execution_count": 36,
   "metadata": {},
   "outputs": [
    {
     "name": "stdout",
     "output_type": "stream",
     "text": [
      "[0.         1.         0.31578947 0.10526316]\n"
     ]
    },
    {
     "data": {
      "text/plain": [
       "4.8791006706920275"
      ]
     },
     "execution_count": 36,
     "metadata": {},
     "output_type": "execute_result"
    }
   ],
   "source": [
    "array1 = np.array([ 16, 35, 22, 18 ])\n",
    "array2= array1.reshape(-1, 1)\n",
    "array3=scaler.fit_transform(array2)\n",
    "array3 =array3.flatten()\n",
    "print(array3)\n",
    "predict(array3)"
   ]
  }
 ],
 "metadata": {
  "kernelspec": {
   "display_name": "Python 3",
   "language": "python",
   "name": "python3"
  },
  "language_info": {
   "codemirror_mode": {
    "name": "ipython",
    "version": 3
   },
   "file_extension": ".py",
   "mimetype": "text/x-python",
   "name": "python",
   "nbconvert_exporter": "python",
   "pygments_lexer": "ipython3",
   "version": "3.12.2"
  }
 },
 "nbformat": 4,
 "nbformat_minor": 2
}
